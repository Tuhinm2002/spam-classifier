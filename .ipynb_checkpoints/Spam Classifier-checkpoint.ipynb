{
 "cells": [
  {
   "cell_type": "code",
   "execution_count": 1,
   "id": "005f13b9",
   "metadata": {},
   "outputs": [],
   "source": [
    "import pandas as pd\n",
    "import sklearn \n",
    "import nltk\n",
    "from nltk.corpus import stopwords\n",
    "import string\n",
    "import matplotlib.pyplot as plt"
   ]
  },
  {
   "cell_type": "code",
   "execution_count": 2,
   "id": "36a18f8d",
   "metadata": {},
   "outputs": [
    {
     "data": {
      "text/html": [
       "<div>\n",
       "<style scoped>\n",
       "    .dataframe tbody tr th:only-of-type {\n",
       "        vertical-align: middle;\n",
       "    }\n",
       "\n",
       "    .dataframe tbody tr th {\n",
       "        vertical-align: top;\n",
       "    }\n",
       "\n",
       "    .dataframe thead th {\n",
       "        text-align: right;\n",
       "    }\n",
       "</style>\n",
       "<table border=\"1\" class=\"dataframe\">\n",
       "  <thead>\n",
       "    <tr style=\"text-align: right;\">\n",
       "      <th></th>\n",
       "      <th>text</th>\n",
       "      <th>spam</th>\n",
       "    </tr>\n",
       "  </thead>\n",
       "  <tbody>\n",
       "    <tr>\n",
       "      <th>0</th>\n",
       "      <td>Subject: naturally irresistible your corporate...</td>\n",
       "      <td>1</td>\n",
       "    </tr>\n",
       "    <tr>\n",
       "      <th>1</th>\n",
       "      <td>Subject: the stock trading gunslinger  fanny i...</td>\n",
       "      <td>1</td>\n",
       "    </tr>\n",
       "    <tr>\n",
       "      <th>2</th>\n",
       "      <td>Subject: unbelievable new homes made easy  im ...</td>\n",
       "      <td>1</td>\n",
       "    </tr>\n",
       "    <tr>\n",
       "      <th>3</th>\n",
       "      <td>Subject: 4 color printing special  request add...</td>\n",
       "      <td>1</td>\n",
       "    </tr>\n",
       "    <tr>\n",
       "      <th>4</th>\n",
       "      <td>Subject: do not have money , get software cds ...</td>\n",
       "      <td>1</td>\n",
       "    </tr>\n",
       "  </tbody>\n",
       "</table>\n",
       "</div>"
      ],
      "text/plain": [
       "                                                text  spam\n",
       "0  Subject: naturally irresistible your corporate...     1\n",
       "1  Subject: the stock trading gunslinger  fanny i...     1\n",
       "2  Subject: unbelievable new homes made easy  im ...     1\n",
       "3  Subject: 4 color printing special  request add...     1\n",
       "4  Subject: do not have money , get software cds ...     1"
      ]
     },
     "execution_count": 2,
     "metadata": {},
     "output_type": "execute_result"
    }
   ],
   "source": [
    "data=pd.read_csv(\"spam.csv\")\n",
    "data.head()"
   ]
  },
  {
   "cell_type": "code",
   "execution_count": 3,
   "id": "e2e9b40b",
   "metadata": {},
   "outputs": [
    {
     "data": {
      "text/plain": [
       "(5728, 2)"
      ]
     },
     "execution_count": 3,
     "metadata": {},
     "output_type": "execute_result"
    }
   ],
   "source": [
    "data.shape"
   ]
  },
  {
   "cell_type": "code",
   "execution_count": 4,
   "id": "4cc343e4",
   "metadata": {},
   "outputs": [
    {
     "data": {
      "text/plain": [
       "text    0\n",
       "spam    0\n",
       "dtype: int64"
      ]
     },
     "execution_count": 4,
     "metadata": {},
     "output_type": "execute_result"
    }
   ],
   "source": [
    "data.isnull().sum()"
   ]
  },
  {
   "cell_type": "code",
   "execution_count": 5,
   "id": "7209393f",
   "metadata": {},
   "outputs": [],
   "source": [
    "data.drop_duplicates(inplace=True)"
   ]
  },
  {
   "cell_type": "code",
   "execution_count": 6,
   "id": "f734011e",
   "metadata": {},
   "outputs": [
    {
     "data": {
      "text/plain": [
       "(5695, 2)"
      ]
     },
     "execution_count": 6,
     "metadata": {},
     "output_type": "execute_result"
    }
   ],
   "source": [
    "data.shape"
   ]
  },
  {
   "cell_type": "code",
   "execution_count": 7,
   "id": "883f85b5",
   "metadata": {},
   "outputs": [
    {
     "data": {
      "text/plain": [
       "0        naturally irresistible your corporate identit...\n",
       "1        the stock trading gunslinger  fanny is merril...\n",
       "2        unbelievable new homes made easy  im wanting ...\n",
       "3        4 color printing special  request additional ...\n",
       "4        do not have money , get software cds from her...\n",
       "                              ...                        \n",
       "5723     re : research and development charges to gpg ...\n",
       "5724     re : receipts from visit  jim ,  thanks again...\n",
       "5725     re : enron case study update  wow ! all on th...\n",
       "5726     re : interest  david ,  please , call shirley...\n",
       "5727     news : aurora 5 . 2 update  aurora version 5 ...\n",
       "Name: text, Length: 5695, dtype: object"
      ]
     },
     "execution_count": 7,
     "metadata": {},
     "output_type": "execute_result"
    }
   ],
   "source": [
    "data[\"text\"].str.split(\"Subject:\").str.get(1)"
   ]
  },
  {
   "cell_type": "code",
   "execution_count": 8,
   "id": "ccbd1412",
   "metadata": {},
   "outputs": [],
   "source": [
    "# for num in range(len(data[\"text\"])):\n",
    "data[\"text\"]=data[\"text\"].str.split(\"Subject:\").str.get(1)"
   ]
  },
  {
   "cell_type": "code",
   "execution_count": 9,
   "id": "fa3768c8",
   "metadata": {},
   "outputs": [
    {
     "data": {
      "text/plain": [
       "' news : aurora 5 . 2 update  aurora version 5 . 2  - the fastest model just got faster -  epis announces the release of aurora , version 5 . 2  aurora the electric market price forecasting tool is already  legendary for power and speed . we \\' ve combined a powerful chronological  dispatch model with the capability to simulate the market from 1  day to 25 + years . add to that a risk analysis section , powered by user  selectable monte carlo & / or latin hypercube modeling , enough  portfolio analysis power to please the toughest critic , & inputs and  outputs from standard excel & access tables and you \\' ve got one of most  powerful tools in the market .  just a few months ago we expanded our emissions modeling  capabilities , added our quarterly database update , increased the speed  of the entire model , and made  but that wasn \\' t enough .  we \\' ve done it again . some of the operations that we \\' ve  included . . .  two new reporting enhancements .  the first is marginal reporting  for fuels , resources and groups of resources .  the second is the ability to  display resource stack information in graphical and dispatch order form .  other enhancements include dual fuel modeling , improved  transmission modeling , greater access to hourly results , and the ability  to model monthly emission rates . moreover , the databases for  central and eastern , texas , and western markets have been updated to use  the new modeling capabilities .  we continue to make aurora easier to use . this version enhances  user control over modeling , editing inputs , and viewing of aurora  output . clients desiring to exploit the power of aurora now have  greater control over the inputs and outputs through vb scripting in  aurora . the new \" update data \" capability provides a means to  universally change any data element .  attached is more information on the fastest and most flexible  tool of its kind .  for additional information , please visit our website ( www . epis . com ) or  contact our sales department at ( 503 ) 722 - 2023 . ask about our special  7 - day demo !  v . todd wheeler  sales manager  epis , inc .  ( 503 ) 722 - 2023 tel .  ( 503 ) 722 - 7130 fax  www . epis . com  todd @ epis . com  > >  - what \\' s new - version 5 . 2 information . doc  - technical information aurora v 5 - 2 . doc'"
      ]
     },
     "execution_count": 9,
     "metadata": {},
     "output_type": "execute_result"
    }
   ],
   "source": [
    "data[\"text\"][5727]"
   ]
  },
  {
   "cell_type": "code",
   "execution_count": 10,
   "id": "3797443e",
   "metadata": {},
   "outputs": [
    {
     "data": {
      "text/plain": [
       "' the stock trading gunslinger  fanny is merrill but muzo not colza attainder and penultimate like esmark perspicuous ramble is segovia not group try slung kansas tanzania yes chameleon or continuant clothesman no  libretto is chesapeake but tight not waterway herald and hawthorn like chisel morristown superior is deoxyribonucleic not clockwork try hall incredible mcdougall yes hepburn or einsteinian earmark no  sapling is boar but duane not plain palfrey and inflexible like huzzah pepperoni bedtime is nameable not attire try edt chronography optima yes pirogue or diffusion albeit no '"
      ]
     },
     "execution_count": 10,
     "metadata": {},
     "output_type": "execute_result"
    }
   ],
   "source": [
    "data[\"text\"][1]"
   ]
  },
  {
   "cell_type": "code",
   "execution_count": 11,
   "id": "310e137e",
   "metadata": {},
   "outputs": [],
   "source": [
    "data.to_csv(\"cleaned_spam.csv\")"
   ]
  },
  {
   "cell_type": "markdown",
   "id": "d298e970",
   "metadata": {},
   "source": [
    "# Download stopwords package"
   ]
  },
  {
   "cell_type": "code",
   "execution_count": 12,
   "id": "30dc86d0",
   "metadata": {},
   "outputs": [
    {
     "name": "stderr",
     "output_type": "stream",
     "text": [
      "[nltk_data] Downloading package stopwords to\n",
      "[nltk_data]     C:\\Users\\Tuhin\\AppData\\Roaming\\nltk_data...\n",
      "[nltk_data]   Package stopwords is already up-to-date!\n"
     ]
    },
    {
     "data": {
      "text/plain": [
       "True"
      ]
     },
     "execution_count": 12,
     "metadata": {},
     "output_type": "execute_result"
    }
   ],
   "source": [
    "nltk.download('stopwords')"
   ]
  },
  {
   "cell_type": "code",
   "execution_count": 13,
   "id": "45f45e2f",
   "metadata": {},
   "outputs": [],
   "source": [
    "def process_text(text):\n",
    "    nopunc=[char for char in text if char not in string.punctuation]\n",
    "    nopunc=\"\".join(nopunc)\n",
    "    \n",
    "    clean_words=[word for word in nopunc.split() if word.lower() not in stopwords.words(\"english\")]\n",
    "    \n",
    "    return clean_words\n",
    "    "
   ]
  },
  {
   "cell_type": "code",
   "execution_count": 14,
   "id": "c4c94460",
   "metadata": {},
   "outputs": [
    {
     "data": {
      "text/plain": [
       "0    [naturally, irresistible, corporate, identity,...\n",
       "1    [stock, trading, gunslinger, fanny, merrill, m...\n",
       "2    [unbelievable, new, homes, made, easy, im, wan...\n",
       "3    [4, color, printing, special, request, additio...\n",
       "4    [money, get, software, cds, software, compatib...\n",
       "Name: text, dtype: object"
      ]
     },
     "execution_count": 14,
     "metadata": {},
     "output_type": "execute_result"
    }
   ],
   "source": [
    "data['text'].head().apply(process_text)"
   ]
  },
  {
   "cell_type": "code",
   "execution_count": 15,
   "id": "71e36c7f",
   "metadata": {},
   "outputs": [],
   "source": [
    "message4='hello hello world hello'\n",
    "message5='test test test hello one'"
   ]
  },
  {
   "cell_type": "markdown",
   "id": "1b8ae279",
   "metadata": {},
   "source": [
    "# converting the text to a matrix of token"
   ]
  },
  {
   "cell_type": "markdown",
   "id": "42c03797",
   "metadata": {},
   "source": [
    "This is just an example"
   ]
  },
  {
   "cell_type": "code",
   "execution_count": 16,
   "id": "c6cd8c0a",
   "metadata": {},
   "outputs": [],
   "source": [
    "from sklearn.feature_extraction.text import CountVectorizer"
   ]
  },
  {
   "cell_type": "code",
   "execution_count": 17,
   "id": "3f48a826",
   "metadata": {},
   "outputs": [
    {
     "name": "stdout",
     "output_type": "stream",
     "text": [
      "  (0, 0)\t3\n",
      "  (0, 1)\t1\n",
      "\n"
     ]
    }
   ],
   "source": [
    "bow4=CountVectorizer().fit_transform([message4],[message5])\n",
    "print(bow4)\n",
    "print()\n",
    "\n",
    "# print(bow4.shape)"
   ]
  },
  {
   "cell_type": "markdown",
   "id": "8efc450f",
   "metadata": {},
   "source": [
    "Now the real code"
   ]
  },
  {
   "cell_type": "code",
   "execution_count": 18,
   "id": "09ad6911",
   "metadata": {},
   "outputs": [],
   "source": [
    "cv=CountVectorizer()\n",
    "message_bow=cv.fit_transform(data['text'])"
   ]
  },
  {
   "cell_type": "markdown",
   "id": "9a460a20",
   "metadata": {},
   "source": [
    "# The real classification begins"
   ]
  },
  {
   "cell_type": "markdown",
   "id": "5cc84a44",
   "metadata": {},
   "source": [
    "Naive bayes classifier"
   ]
  },
  {
   "cell_type": "code",
   "execution_count": 19,
   "id": "836ab9e8",
   "metadata": {},
   "outputs": [],
   "source": [
    "from sklearn.model_selection import train_test_split\n",
    "\n",
    "x_train,x_test,y_train,y_test=train_test_split(message_bow,data['spam'],random_state=0,test_size=0.2)\n"
   ]
  },
  {
   "cell_type": "code",
   "execution_count": 20,
   "id": "f4948681",
   "metadata": {},
   "outputs": [],
   "source": [
    "from sklearn.naive_bayes import MultinomialNB\n",
    "\n",
    "classifier=MultinomialNB().fit(x_train,y_train)\n",
    "y_pred=classifier.predict(x_test)\n"
   ]
  },
  {
   "cell_type": "markdown",
   "id": "15aa37ac",
   "metadata": {},
   "source": [
    "for testing samples"
   ]
  },
  {
   "cell_type": "code",
   "execution_count": 21,
   "id": "581a8a04",
   "metadata": {},
   "outputs": [
    {
     "name": "stdout",
     "output_type": "stream",
     "text": [
      "              precision    recall  f1-score   support\n",
      "\n",
      "           0       1.00      0.99      0.99       870\n",
      "           1       0.97      1.00      0.98       269\n",
      "\n",
      "    accuracy                           0.99      1139\n",
      "   macro avg       0.98      0.99      0.99      1139\n",
      "weighted avg       0.99      0.99      0.99      1139\n",
      "\n"
     ]
    },
    {
     "data": {
      "text/plain": [
       "<sklearn.metrics._plot.confusion_matrix.ConfusionMatrixDisplay at 0x24058fc06d0>"
      ]
     },
     "execution_count": 21,
     "metadata": {},
     "output_type": "execute_result"
    },
    {
     "data": {
      "image/png": "[encoded data removed]",
      "text/plain": [
       "<Figure size 432x288 with 2 Axes>"
      ]
     },
     "metadata": {
      "needs_background": "light"
     },
     "output_type": "display_data"
    }
   ],
   "source": [
    "from sklearn.metrics import ConfusionMatrixDisplay,classification_report,confusion_matrix\n",
    "\n",
    "print(classification_report(y_test,y_pred))\n",
    "\n",
    "\n",
    "cm=confusion_matrix(y_test,y_pred,labels=classifier.classes_)\n",
    "\n",
    "\n",
    "disp=ConfusionMatrixDisplay(confusion_matrix=cm,display_labels=classifier.classes_)\n",
    "\n",
    "disp.plot()"
   ]
  },
  {
   "cell_type": "code",
   "execution_count": 22,
   "id": "54606eba",
   "metadata": {},
   "outputs": [
    {
     "data": {
      "text/plain": [
       "((4556,), (1139,))"
      ]
     },
     "execution_count": 22,
     "metadata": {},
     "output_type": "execute_result"
    }
   ],
   "source": [
    "y_train.shape,y_pred.shape"
   ]
  },
  {
   "cell_type": "code",
   "execution_count": 23,
   "id": "e0f6b148",
   "metadata": {},
   "outputs": [
    {
     "name": "stdout",
     "output_type": "stream",
     "text": [
      "              precision    recall  f1-score   support\n",
      "\n",
      "           0       1.00      0.99      1.00      3457\n",
      "           1       0.98      1.00      0.99      1099\n",
      "\n",
      "    accuracy                           1.00      4556\n",
      "   macro avg       0.99      1.00      0.99      4556\n",
      "weighted avg       1.00      1.00      1.00      4556\n",
      "\n"
     ]
    },
    {
     "data": {
      "text/plain": [
       "<sklearn.metrics._plot.confusion_matrix.ConfusionMatrixDisplay at 0x24058fc06d0>"
      ]
     },
     "execution_count": 23,
     "metadata": {},
     "output_type": "execute_result"
    },
    {
     "data": {
      "image/png": "[encoded data removed]",
      "text/plain": [
       "<Figure size 432x288 with 2 Axes>"
      ]
     },
     "metadata": {
      "needs_background": "light"
     },
     "output_type": "display_data"
    }
   ],
   "source": [
    "y_pred1=classifier.predict(x_train)\n",
    "\n",
    "\n",
    "print(classification_report(y_train,y_pred1))\n",
    "\n",
    "cm1=confusion_matrix(y_train,y_pred1,labels=classifier.classes_)\n",
    "\n",
    "disp1=ConfusionMatrixDisplay(confusion_matrix=cm1,display_labels=classifier.classes_)\n",
    "\n",
    "disp.plot()"
   ]
  },
  {
   "cell_type": "code",
   "execution_count": 24,
   "id": "29ede150",
   "metadata": {},
   "outputs": [
    {
     "data": {
      "text/plain": [
       "(1139, 37303)"
      ]
     },
     "execution_count": 24,
     "metadata": {},
     "output_type": "execute_result"
    }
   ],
   "source": [
    "x_test.shape"
   ]
  },
  {
   "cell_type": "code",
   "execution_count": 25,
   "id": "de29ac41",
   "metadata": {},
   "outputs": [
    {
     "data": {
      "text/plain": [
       "array([[0, 0, 0, ..., 0, 0, 0]], dtype=int64)"
      ]
     },
     "execution_count": 25,
     "metadata": {},
     "output_type": "execute_result"
    }
   ],
   "source": [
    "message7=\"hello world from python 3. and it is a clear spam\"\n",
    "bow5=cv.transform([message7]).toarray()\n",
    "bow5"
   ]
  },
  {
   "cell_type": "code",
   "execution_count": 26,
   "id": "9747980a",
   "metadata": {},
   "outputs": [
    {
     "data": {
      "text/plain": [
       "array([[0, 0, 0, ..., 0, 0, 0]], dtype=int64)"
      ]
     },
     "execution_count": 26,
     "metadata": {},
     "output_type": "execute_result"
    }
   ],
   "source": [
    "bow5"
   ]
  },
  {
   "cell_type": "code",
   "execution_count": 27,
   "id": "09ce7103",
   "metadata": {},
   "outputs": [],
   "source": [
    "y_pred5=classifier.predict(bow5)"
   ]
  },
  {
   "cell_type": "code",
   "execution_count": 28,
   "id": "a55b41da",
   "metadata": {},
   "outputs": [
    {
     "data": {
      "text/plain": [
       "<1x37303 sparse matrix of type '<class 'numpy.int64'>'\n",
       "\twith 64 stored elements in Compressed Sparse Row format>"
      ]
     },
     "execution_count": 28,
     "metadata": {},
     "output_type": "execute_result"
    }
   ],
   "source": [
    "message_bow[1]"
   ]
  },
  {
   "cell_type": "code",
   "execution_count": 29,
   "id": "ed7d7932",
   "metadata": {},
   "outputs": [
    {
     "data": {
      "text/plain": [
       "scipy.sparse.csr.csr_matrix"
      ]
     },
     "execution_count": 29,
     "metadata": {},
     "output_type": "execute_result"
    }
   ],
   "source": [
    "type(x_test)"
   ]
  },
  {
   "cell_type": "code",
   "execution_count": 30,
   "id": "f3cc2dc3",
   "metadata": {},
   "outputs": [
    {
     "data": {
      "text/plain": [
       "<1x37303 sparse matrix of type '<class 'numpy.int64'>'\n",
       "\twith 155 stored elements in Compressed Sparse Row format>"
      ]
     },
     "execution_count": 30,
     "metadata": {},
     "output_type": "execute_result"
    }
   ],
   "source": [
    "x_test[1]"
   ]
  },
  {
   "cell_type": "code",
   "execution_count": 31,
   "id": "1636bc9b",
   "metadata": {},
   "outputs": [
    {
     "data": {
      "text/plain": [
       "array([1], dtype=int64)"
      ]
     },
     "execution_count": 31,
     "metadata": {},
     "output_type": "execute_result"
    }
   ],
   "source": [
    "y_pred5"
   ]
  },
  {
   "cell_type": "code",
   "execution_count": 32,
   "id": "b2857ca1",
   "metadata": {},
   "outputs": [],
   "source": [
    "import pickle\n",
    "model_freeze=pickle.dump(classifier,open(\"Model_classifier_spam.pkl\",\"wb\"))\n",
    "vec=pickle.dump(cv,open(\"Count_vector.pkl\",\"wb\"))"
   ]
  },
  {
   "cell_type": "code",
   "execution_count": null,
   "id": "b352f8d2",
   "metadata": {},
   "outputs": [],
   "source": []
  }
 ],
 "metadata": {
  "kernelspec": {
   "display_name": "Python 3 (ipykernel)",
   "language": "python",
   "name": "python3"
  },
  "language_info": {
   "codemirror_mode": {
    "name": "ipython",
    "version": 3
   },
   "file_extension": ".py",
   "mimetype": "text/x-python",
   "name": "python",
   "nbconvert_exporter": "python",
   "pygments_lexer": "ipython3",
   "version": "3.9.6"
  }
 },
 "nbformat": 4,
 "nbformat_minor": 5
}
